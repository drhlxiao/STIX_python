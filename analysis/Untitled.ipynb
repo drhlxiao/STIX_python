{
 "cells": [
  {
   "cell_type": "code",
   "execution_count": 1,
   "metadata": {},
   "outputs": [],
   "source": [
    "s='000000005afc4d5c0002da3f5afc4d5c0004279000000001028a00ca00000068183503e8000000000000d3f000000000028a0000000000010000000000300000ffffffffff1005a7000005010da7c0000015100501000000000b287200010000ffff000000008672'"
   ]
  },
  {
   "cell_type": "code",
   "execution_count": 2,
   "metadata": {},
   "outputs": [
    {
     "name": "stdout",
     "output_type": "stream",
     "text": [
      "0068183503e8000000000000d3f000000000028a0000000000010000000000300000ffffffffff1005a7000005010da7c0000015100501000000000b287200010000ffff000000008672\n"
     ]
    }
   ],
   "source": [
    "print s[60:]\n"
   ]
  },
  {
   "cell_type": "code",
   "execution_count": null,
   "metadata": {},
   "outputs": [],
   "source": []
  }
 ],
 "metadata": {
  "kernelspec": {
   "display_name": "Python 2",
   "language": "python",
   "name": "python2"
  },
  "language_info": {
   "codemirror_mode": {
    "name": "ipython",
    "version": 2
   },
   "file_extension": ".py",
   "mimetype": "text/x-python",
   "name": "python",
   "nbconvert_exporter": "python",
   "pygments_lexer": "ipython2",
   "version": "2.7.15rc1"
  }
 },
 "nbformat": 4,
 "nbformat_minor": 2
}
