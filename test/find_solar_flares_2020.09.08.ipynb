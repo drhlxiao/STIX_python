{
 "cells": [
  {
   "cell_type": "code",
   "execution_count": 1,
   "metadata": {
    "scrolled": false
   },
   "outputs": [
    {
     "name": "stdout",
     "output_type": "stream",
     "text": [
      "/home/xiaohl/FHNW/STIX/gsw/STIX_python\n",
      "[INFO 2020-09-11 11:23:35] : IDB loaded from stix/data/idb/idb.sqlite\n"
     ]
    },
    {
     "ename": "TypeError",
     "evalue": "'Collection' object is not callable. If you meant to call the 'MongoDB' method on a 'Database' object it is failing because no such method exists.",
     "output_type": "error",
     "traceback": [
      "\u001b[0;31m---------------------------------------------------------------------------\u001b[0m",
      "\u001b[0;31mTypeError\u001b[0m                                 Traceback (most recent call last)",
      "\u001b[0;32m<ipython-input-1-119390549d77>\u001b[0m in \u001b[0;36m<module>\u001b[0;34m\u001b[0m\n\u001b[1;32m     19\u001b[0m \u001b[0mdb\u001b[0m \u001b[0;34m=\u001b[0m \u001b[0mconnect\u001b[0m\u001b[0;34m[\u001b[0m\u001b[0;34m\"stix\"\u001b[0m\u001b[0;34m]\u001b[0m\u001b[0;34m\u001b[0m\u001b[0;34m\u001b[0m\u001b[0m\n\u001b[1;32m     20\u001b[0m \u001b[0mget_ipython\u001b[0m\u001b[0;34m(\u001b[0m\u001b[0;34m)\u001b[0m\u001b[0;34m.\u001b[0m\u001b[0mrun_line_magic\u001b[0m\u001b[0;34m(\u001b[0m\u001b[0;34m'matplotlib'\u001b[0m\u001b[0;34m,\u001b[0m \u001b[0;34m'notebook'\u001b[0m\u001b[0;34m)\u001b[0m\u001b[0;34m\u001b[0m\u001b[0;34m\u001b[0m\u001b[0m\n\u001b[0;32m---> 21\u001b[0;31m \u001b[0mmdb\u001b[0m\u001b[0;34m=\u001b[0m\u001b[0mdb\u001b[0m\u001b[0;34m.\u001b[0m\u001b[0mMongoDB\u001b[0m\u001b[0;34m(\u001b[0m\u001b[0;34m)\u001b[0m\u001b[0;34m\u001b[0m\u001b[0;34m\u001b[0m\u001b[0m\n\u001b[0m\u001b[1;32m     22\u001b[0m \u001b[0mdefault_folder\u001b[0m \u001b[0;34m=\u001b[0m \u001b[0;34m'/data/flare_search/'\u001b[0m\u001b[0;34m\u001b[0m\u001b[0;34m\u001b[0m\u001b[0m\n\u001b[1;32m     23\u001b[0m \u001b[0mSPID\u001b[0m \u001b[0;34m=\u001b[0m \u001b[0;36m54118\u001b[0m\u001b[0;34m\u001b[0m\u001b[0;34m\u001b[0m\u001b[0m\n",
      "\u001b[0;32m/usr/lib/python3/dist-packages/pymongo/collection.py\u001b[0m in \u001b[0;36m__call__\u001b[0;34m(self, *args, **kwargs)\u001b[0m\n\u001b[1;32m   3333\u001b[0m         \"\"\"\n\u001b[1;32m   3334\u001b[0m         \u001b[0;32mif\u001b[0m \u001b[0;34m\".\"\u001b[0m \u001b[0;32mnot\u001b[0m \u001b[0;32min\u001b[0m \u001b[0mself\u001b[0m\u001b[0;34m.\u001b[0m\u001b[0m__name\u001b[0m\u001b[0;34m:\u001b[0m\u001b[0;34m\u001b[0m\u001b[0;34m\u001b[0m\u001b[0m\n\u001b[0;32m-> 3335\u001b[0;31m             raise TypeError(\"'Collection' object is not callable. If you \"\n\u001b[0m\u001b[1;32m   3336\u001b[0m                             \u001b[0;34m\"meant to call the '%s' method on a 'Database' \"\u001b[0m\u001b[0;34m\u001b[0m\u001b[0;34m\u001b[0m\u001b[0m\n\u001b[1;32m   3337\u001b[0m                             \u001b[0;34m\"object it is failing because no such method \"\u001b[0m\u001b[0;34m\u001b[0m\u001b[0;34m\u001b[0m\u001b[0m\n",
      "\u001b[0;31mTypeError\u001b[0m: 'Collection' object is not callable. If you meant to call the 'MongoDB' method on a 'Database' object it is failing because no such method exists."
     ]
    }
   ],
   "source": [
    "%cd ../\n",
    "import os\n",
    "import sys\n",
    "import time\n",
    "import requests\n",
    "import pandas as pd\n",
    "from scipy import signal\n",
    "from scipy import fftpack\n",
    "\n",
    "import numpy as np\n",
    "from matplotlib import pyplot as plt\n",
    "from stix.core import stix_datatypes as sdt\n",
    "from stix.core import mongo_db as db\n",
    "from stix.core import stix_datetime\n",
    "import pymongo\n",
    "from dateutil import parser as dtparser\n",
    "\n",
    "connect = pymongo.MongoClient()\n",
    "db = connect[\"stix\"]\n",
    "%matplotlib notebook\n",
    "mdb=db.MongoDB()\n",
    "default_folder = '/data/flare_search/'\n",
    "SPID = 54118"
   ]
  },
  {
   "cell_type": "markdown",
   "metadata": {},
   "source": [
    "## 1.  Data preparation"
   ]
  },
  {
   "cell_type": "code",
   "execution_count": null,
   "metadata": {
    "scrolled": false
   },
   "outputs": [],
   "source": [
    "\n",
    "\n",
    "def get_lc_data(file_id):\n",
    "    # query database and retrieve the packets\n",
    "    \n",
    "    packets = mdb.select_packets_by_run(file_id, SPID)\n",
    "    if not packets:\n",
    "        print(f'No QL LC packets found for run {file_id}')\n",
    "        return None, None\n",
    "    else:\n",
    "        print('Number of  LC packets found for run {}: {}'.format(file_id,packets.count()))\n",
    "\n",
    "    lightcurves = {}\n",
    "    unix_time = []\n",
    "    for pkt in packets:\n",
    "        packet = sdt.Packet(pkt)\n",
    "        if not packet.isa(SPID):\n",
    "            continue\n",
    "        #fig = None\n",
    "\n",
    "        scet_coarse = packet[1].raw\n",
    "        scet_fine = packet[2].raw\n",
    "        start_scet = scet_coarse + scet_fine / 65536.\n",
    "\n",
    "        int_duration = (packet[3].raw + 1) * 0.1\n",
    "\n",
    "        detector_mask = packet[4].raw\n",
    "        pixel_mask = packet[6].raw\n",
    "\n",
    "        num_lc = packet[17].raw\n",
    "\n",
    "        compression_s = packet[8].raw\n",
    "        compression_k = packet[9].raw\n",
    "        compression_m = packet[10].raw\n",
    "\n",
    "        num_lc_points = packet.get('NIX00270/NIX00271')[0]\n",
    "        lc = packet.get('NIX00270/NIX00271/*.eng')[0]\n",
    "        rcr = packet.get('NIX00275/*.raw')\n",
    "        UTC = packet['header']['UTC']\n",
    "        for i in range(len(lc)):\n",
    "            if i not in lightcurves:\n",
    "                lightcurves[i] = []\n",
    "            lightcurves[i].extend(lc[i])\n",
    "        unix_time.extend([\n",
    "            stix_datetime.scet2unix(start_scet + x * int_duration)\n",
    "            for x in range(num_lc_points[0])\n",
    "        ])\n",
    "    return lightcurves, unix_time\n",
    "\n"
   ]
  },
  {
   "cell_type": "code",
   "execution_count": null,
   "metadata": {},
   "outputs": [],
   "source": [
    "lcs,t=get_lc_data(268)\n",
    "lightcurve=np.array(lcs[0]) #4-10 keV\n",
    "unix_time=np.array(t)\n",
    "\n",
    "mean_counts=np.mean(lightcurve)\n",
    "\n",
    "std_counts=np.std(lightcurve)\n",
    "print(mean_counts,std_counts)\n"
   ]
  },
  {
   "cell_type": "markdown",
   "metadata": {},
   "source": [
    "## 2. Peak detection algorithm"
   ]
  },
  {
   "cell_type": "code",
   "execution_count": null,
   "metadata": {
    "scrolled": false
   },
   "outputs": [],
   "source": [
    "#peak detection algorithm\n",
    "\n",
    "\n",
    "def find_peaks(data,peak_width=10, distance=75):\n",
    "    mean_counts=np.mean(data)\n",
    "    std_counts=20 #np.std(data)\n",
    "    height=mean_counts+std_counts\n",
    "    prominence=std_counts\n",
    "    #find local maximums which satisfy the conditions\n",
    "    \n",
    "    \n",
    "    xpeak, properties = signal.find_peaks(data, \n",
    "                                          height=height,\n",
    "                                         # threshold=threshold,\n",
    "                                          prominence=prominence,\n",
    "                                                width=peak_width,\n",
    "                                                distance=distance\n",
    "                                         )\n",
    "    print('Number of detected peaks:', xpeak.size)\n",
    "    #print(xpeak.size)\n",
    "\n",
    "\n",
    "\n",
    "    if xpeak.size>0:\n",
    "        peak_values=data[xpeak]\n",
    "        peak_unix_times = unix_time[xpeak]\n",
    "        peaks_utc=[stix_datetime.unix2utc(x) for x in peak_unix_times]\n",
    "\n",
    "        fig1=plt.figure()\n",
    "\n",
    "        plt.plot(unix_time, data)\n",
    "        plt.yscale('log')\n",
    "        plt.vlines(peak_unix_times, 0.8*peak_values, 1.5*peak_values,color='C1')\n",
    "        plt.show()\n",
    "\n",
    "        #fig2=plt.figure()\n",
    "\n",
    "\n",
    "        #N=len(data)\n",
    "        #fs=0.25\n",
    "        #time = np.arange(N) / float(fs)\n",
    "\n",
    "\n",
    "        #f,t,Zxx = signal.stft(data, fs=0.25, nperseg=200)\n",
    "        #amp = 2 * np.sqrt(2)\n",
    "        #plt.pcolormesh(t, f, np.abs(Zxx), vmin=0, vmax=amp, shading='gouraud')\n",
    "        #plt.title('STFT Magnitude')\n",
    "        #plt.xlabel('Time [s]')\n",
    "        #plt.ylabel('Frequency (Hz)')\n",
    "        #plt.show()\n",
    "        return peak_unix_times, peak_values\n",
    "\n",
    "\n",
    "t, v=find_peaks(lightcurve)\n",
    "\n"
   ]
  },
  {
   "cell_type": "markdown",
   "metadata": {},
   "source": [
    "### 2.1 Low-pass filter"
   ]
  },
  {
   "cell_type": "code",
   "execution_count": null,
   "metadata": {},
   "outputs": [],
   "source": [
    "# Low pass filter to fiter high frequence pattern caused  by integer compression, noise etc.\n",
    "\n",
    "Wn=0.03 #cut off frequency    \n",
    "\n",
    "order=4 #butterworth filter order\n",
    "b,a=signal.butter(order, Wn, 'low', analog=False)#analog \n",
    "w, h = signal.freqs(b, a)\n",
    "fig=plt.figure()\n",
    "plt.semilogx(w, 20 * np.log10(abs(h)))\n",
    "plt.title('Butterworth filter frequency response')\n",
    "plt.xlabel('Frequency [1 / second]')\n",
    "#plt.ylabel('Amplitude [dB]')\n",
    "plt.grid(which='both', axis='both')\n",
    "#plt.axvline(Wn, color='green') # cutoff frequency\n",
    "plt.show()\n",
    "    \n",
    "#y = signal.filtfilt(b, a, data)\n",
    "\n",
    "\n"
   ]
  },
  {
   "cell_type": "code",
   "execution_count": null,
   "metadata": {},
   "outputs": [],
   "source": [
    "lc_smoothed = signal.filtfilt(b, a, lightcurve)\n",
    "fig=plt.figure()\n",
    "plt.plot(unix_time,lightcurve,'r', label='orignal')\n",
    "plt.plot(unix_time,lc_smoothed,'b', label='smoothed')\n",
    "plt.yscale('log')\n",
    "plt.legend(loc='upper left')\n",
    "plt.show()"
   ]
  },
  {
   "cell_type": "code",
   "execution_count": null,
   "metadata": {},
   "outputs": [],
   "source": [
    "times, peak_values= find_peaks(lc_smoothed)"
   ]
  },
  {
   "cell_type": "code",
   "execution_count": null,
   "metadata": {},
   "outputs": [],
   "source": [
    "fig3=plt.figure()\n",
    "plt.plot(unix_time, lightcurve)\n",
    "plt.vlines(times, 0.8*peak_values, 1.5*peak_values,color='C1')\n",
    "plt.show()"
   ]
  },
  {
   "cell_type": "code",
   "execution_count": null,
   "metadata": {},
   "outputs": [],
   "source": [
    "width=75\n",
    "order=2\n",
    "lc_savgol=signal.savgol_filter(lightcurve, width, order)"
   ]
  },
  {
   "cell_type": "code",
   "execution_count": null,
   "metadata": {},
   "outputs": [],
   "source": [
    "fig4=plt.figure()\n",
    "plt.plot(unix_time, lightcurve,'b', label='original')\n",
    "plt.plot(unix_time,lc_savgol,'r',label='smoothed')\n",
    "#plt.plot(unix_time,lc_smoothed,'g',label='smoothed 2')\n",
    "plt.legend('upper right')\n",
    "plt.show()"
   ]
  },
  {
   "cell_type": "code",
   "execution_count": null,
   "metadata": {},
   "outputs": [],
   "source": [
    "times_savgol, peak_values_savgol= find_peaks(lc_savgol)"
   ]
  },
  {
   "cell_type": "code",
   "execution_count": null,
   "metadata": {},
   "outputs": [],
   "source": [
    "fig=plt.figure()\n",
    "plt.plot(times,peak_values,'x')\n",
    "plt.vlines(times_savgol, 0.8*peak_values_savgol,peak_values_savgol*1.2, color='C1')\n",
    "plt.show()"
   ]
  },
  {
   "cell_type": "code",
   "execution_count": null,
   "metadata": {},
   "outputs": [],
   "source": [
    "np.std(lightcurve[0:500])"
   ]
  },
  {
   "cell_type": "markdown",
   "metadata": {},
   "source": []
  },
  {
   "cell_type": "code",
   "execution_count": null,
   "metadata": {},
   "outputs": [],
   "source": []
  },
  {
   "cell_type": "code",
   "execution_count": null,
   "metadata": {},
   "outputs": [],
   "source": []
  },
  {
   "cell_type": "code",
   "execution_count": null,
   "metadata": {},
   "outputs": [],
   "source": []
  }
 ],
 "metadata": {
  "kernelspec": {
   "display_name": "Python 3",
   "language": "python",
   "name": "python3"
  },
  "language_info": {
   "codemirror_mode": {
    "name": "ipython",
    "version": 3
   },
   "file_extension": ".py",
   "mimetype": "text/x-python",
   "name": "python",
   "nbconvert_exporter": "python",
   "pygments_lexer": "ipython3",
   "version": "3.8.2"
  }
 },
 "nbformat": 4,
 "nbformat_minor": 4
}
