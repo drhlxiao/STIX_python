{
 "cells": [
  {
   "cell_type": "code",
   "execution_count": 13,
   "metadata": {},
   "outputs": [
    {
     "name": "stdout",
     "output_type": "stream",
     "text": [
      "{'date': '2020-05-18', 'start': '15:58:30', 'end': '16:13:30', 'dt': '193.9', 'GOES': 'A3.6', 'bkg': '60287', 'fl': '1431', 'cps': '1.59', 'peak_cps': '16', 'comments': 'BH off'}\n",
      "{'date': '2020-05-18', 'start': '20:39:30', 'end': '20:45:10', 'dt': '194.6', 'GOES': 'A4.5', 'bkg': '22401', 'fl': '1153', 'cps': '3.39', 'peak_cps': '17', 'comments': 'BH off'}\n",
      "{'date': '2020-05-20', 'start': '12:40:00', 'end': '12:54:00', 'dt': '199.9', 'GOES': 'A4.0', 'bkg': '55652', 'fl': '1529', 'cps': '1.82', 'peak_cps': '17', 'comments': 'BH off'}\n",
      "{'date': '2020-05-29', 'start': '7:16:40', 'end': '7:20:40', 'dt': '225.4', 'GOES': 'M1.1', 'bkg': '15562', 'fl': '1033', 'cps': '4.3', 'peak_cps': '10', 'comments': 'highly  occulted'}\n",
      "{'date': '2020-05-29', 'start': '10:40:30', 'end': '10:48:00', 'dt': '225.7', 'GOES': 'C9.3', 'bkg': '29128', 'fl': '839', 'cps': '1.86', 'peak_cps': '10', 'comments': 'highly occulted'}\n",
      "{'date': '2020-06-05', 'start': '11:28:30', 'end': '11:32:30', 'dt': '240.7', 'GOES': 'A3.1', 'bkg': '15598', 'fl': '861', 'cps': '3.59', 'peak_cps': '10', 'comments': ''}\n",
      "{'date': '2020-06-05', 'start': '12:07:20', 'end': '12:34:30', 'dt': '240.8', 'GOES': 'A6.1', 'bkg': '106180', 'fl': '4379', 'cps': '2.68', 'peak_cps': '18', 'comments': ''}\n",
      "{'date': '2020-06-05', 'start': '18:07:50', 'end': '18:13:00', 'dt': '241.2', 'GOES': 'A2.4', 'bkg': '39966', 'fl': '855', 'cps': '2.76', 'peak_cps': '10', 'comments': 'marginal in 10-Apr keV\\n'}\n",
      "{'date': '2020-06-05', 'start': '18:26:40', 'end': '18:31:00', 'dt': '241.2', 'GOES': 'A3.0', 'bkg': '33729', 'fl': '1036', 'cps': '3.98', 'peak_cps': '10', 'comments': 'GOES back unclear\\n'}\n",
      "{'date': '2020-06-05', 'start': '18:39:10', 'end': '18:47:30', 'dt': '241.2', 'GOES': 'A4.3', 'bkg': '64915', 'fl': '2146', 'cps': '4.29', 'peak_cps': '10', 'comments': 'GOES back unclear\\n'}\n",
      "{'date': '2020-06-05', 'start': '19:34:20', 'end': '20:20:30', 'dt': '241.3', 'GOES': 'A2.7', 'bkg': '362905', 'fl': '508', 'cps': '0.18', 'peak_cps': '10', 'comments': 'several events marginal\\n'}\n",
      "{'date': '2020-06-05', 'start': '21:50:20', 'end': '21:57:30', 'dt': '241.4', 'GOES': 'A1.7', 'bkg': '56288', 'fl': '1383', 'cps': '3.21', 'peak_cps': '10', 'comments': ''}\n",
      "{'date': '2020-06-05', 'start': '22:15:10', 'end': '22:22:10', 'dt': '241.4', 'GOES': 'A2.2', 'bkg': '54602', 'fl': '1555', 'cps': '3.7', 'peak_cps': '10', 'comments': ''}\n",
      "{'date': '2020-06-05', 'start': '22:57:05', 'end': '23:01:30', 'dt': '241.5', 'GOES': 'A2.2', 'bkg': '34330', 'fl': '2399', 'cps': '9.05', 'peak_cps': '19', 'comments': ''}\n",
      "{'date': '2020-06-06', 'start': '8:02:10', 'end': '8:20:20', 'dt': '242.1', 'GOES': 'A5.4', 'bkg': '142372', 'fl': '7995', 'cps': '7.33', 'peak_cps': '18', 'comments': ''}\n",
      "{'date': '2020-06-06', 'start': '8:26:00', 'end': '8:30:10', 'dt': '242.1', 'GOES': 'A3.1', 'bkg': '32953', 'fl': '808', 'cps': '3.23', 'peak_cps': '10', 'comments': ''}\n",
      "{'date': '2020-06-06', 'start': '8:33:50', 'end': '8:50:40', 'dt': '242.1', 'GOES': 'A7.2', 'bkg': '131739', 'fl': '10940', 'cps': '10.8', 'peak_cps': '26', 'comments': ''}\n",
      "{'date': '2020-06-06', 'start': '10:13:55', 'end': '10:18:40', 'dt': '242.2', 'GOES': 'A6.3', 'bkg': '37148', 'fl': '5573', 'cps': '19.5', 'peak_cps': '34', 'comments': ''}\n",
      "{'date': '2020-06-06', 'start': '10:29:25', 'end': '10:35:20', 'dt': '242.2', 'GOES': 'A4.3', 'bkg': '46357', 'fl': '4024', 'cps': '11.3', 'peak_cps': '18', 'comments': ''}\n",
      "{'date': '2020-06-06', 'start': '10:56:50', 'end': '11:10:10', 'dt': '242.3', 'GOES': 'A1.3', 'bkg': '103833', 'fl': '1350', 'cps': '1.68', 'peak_cps': '10', 'comments': ''}\n",
      "{'date': '2020-06-06', 'start': '11:48:10', 'end': '12:00:20', 'dt': '242.3', 'GOES': 'A3.5', 'bkg': '94823', 'fl': '4716', 'cps': '6.46', 'peak_cps': '18', 'comments': ''}\n",
      "{'date': '2020-06-06', 'start': '13:29:05', 'end': '13:31:10', 'dt': '242.4', 'GOES': 'A1.3', 'bkg': '16751', 'fl': '368', 'cps': '2.95', 'peak_cps': '10', 'comments': 'marginal'}\n",
      "{'date': '2020-06-06', 'start': '16:26:00', 'end': '16:35:40', 'dt': '242.6', 'GOES': 'A3.2', 'bkg': '75761', 'fl': '2428', 'cps': '4.18', 'peak_cps': '18', 'comments': ''}\n",
      "{'date': '2020-06-06', 'start': '16:47:00', 'end': '17:04:00', 'dt': '242.6', 'GOES': 'A3.2', 'bkg': '132906', 'fl': '1688', 'cps': '1.65', 'peak_cps': '10', 'comments': ''}\n",
      "{'date': '2020-06-06', 'start': '17:11:20', 'end': '17:20:00', 'dt': '242.7', 'GOES': 'A4.3', 'bkg': '67849', 'fl': '2754', 'cps': '5.29', 'peak_cps': '10', 'comments': ''}\n",
      "{'date': '2020-06-06', 'start': '18:37:10', 'end': '18:45:30', 'dt': '242.8', 'GOES': 'A3.1', 'bkg': '64428', 'fl': '5353', 'cps': '10.7', 'peak_cps': '27', 'comments': ''}\n",
      "{'date': '2020-06-06', 'start': '19:01:10', 'end': '19:25:50', 'dt': '242.8', 'GOES': 'B2.1', 'bkg': '193199', 'fl': '104701', 'cps': '70.7', 'peak_cps': '102', 'comments': ''}\n",
      "{'date': '2020-06-06', 'start': '19:38:50', 'end': '19:48:20', 'dt': '242.8', 'GOES': 'A7.7', 'bkg': '74397', 'fl': '9190', 'cps': '16.1', 'peak_cps': '26', 'comments': ''}\n",
      "{'date': '2020-06-06', 'start': '19:53:50', 'end': '20:04:20', 'dt': '242.8', 'GOES': 'A7.7', 'bkg': '81677', 'fl': '5496', 'cps': '8.72', 'peak_cps': '18', 'comments': ''}\n",
      "{'date': '2020-06-06', 'start': '20:15:20', 'end': '20:27:20', 'dt': '242.9', 'GOES': 'B1.0', 'bkg': '94344', 'fl': '24560', 'cps': '34.1', 'peak_cps': '50', 'comments': ''}\n",
      "{'date': '2020-06-06', 'start': '21:49:20', 'end': '22:29:20', 'dt': '243', 'GOES': 'A8.0', 'bkg': '311708', 'fl': '23940', 'cps': '9.97', 'peak_cps': '26', 'comments': ''}\n",
      "{'date': '2020-06-06', 'start': '23:51:20', 'end': '0:04:40', 'dt': '243.1', 'GOES': 'A5.8', 'bkg': '103706', 'fl': '8997', 'cps': '11.2', 'peak_cps': '18', 'comments': ''}\n",
      "{'date': '2020-06-07', 'start': '1:40:40', 'end': '2:17:40', 'dt': '243.2', 'GOES': 'A5.5', 'bkg': '287683', 'fl': '14215', 'cps': '6.4', 'peak_cps': '26', 'comments': ''}\n",
      "{'date': '2020-06-07', 'start': '3:55:00', 'end': '4:00:40', 'dt': '243.3', 'GOES': 'A1', 'bkg': '44356', 'fl': '705', 'cps': '2.07', 'peak_cps': '10', 'comments': 'marginal'}\n",
      "{'date': '2020-06-07', 'start': '4:33:10', 'end': '4:49:05', 'dt': '243.4', 'GOES': 'A3.0', 'bkg': '123448', 'fl': '2315', 'cps': '2.42', 'peak_cps': '10', 'comments': ''}\n",
      "{'date': '2020-06-07', 'start': '5:06:05', 'end': '5:24:00', 'dt': '243.4', 'GOES': 'B1.0', 'bkg': '139186', 'fl': '34099', 'cps': '31.7', 'peak_cps': '87', 'comments': ''}\n",
      "{'date': '2020-06-07', 'start': '5:56:20', 'end': '6:21:40', 'dt': '243.4', 'GOES': 'A4.1', 'bkg': '198816', 'fl': '4119', 'cps': '2.71', 'peak_cps': '18', 'comments': ''}\n",
      "{'date': '2020-06-07', 'start': '6:57:00', 'end': '6:59:20', 'dt': '243.5', 'GOES': 'A1', 'bkg': '18055', 'fl': '658', 'cps': '4.7', 'peak_cps': '11', 'comments': ''}\n",
      "{'date': '2020-06-07', 'start': '7:34:50', 'end': '8:02:20', 'dt': '243.5', 'GOES': 'A2.7', 'bkg': '210507', 'fl': '6956', 'cps': '4.21', 'peak_cps': '11', 'comments': ''}\n",
      "{'date': '2020-06-07', 'start': '8:14:40', 'end': '8:24:50', 'dt': '243.6', 'GOES': 'A2.1', 'bkg': '78855', 'fl': '4054', 'cps': '6.64', 'peak_cps': '19', 'comments': ''}\n",
      "{'date': '2020-06-07', 'start': '10:38:00', 'end': '10:46:40', 'dt': '243.7', 'GOES': 'A3.4', 'bkg': '67785', 'fl': '2770', 'cps': '5.32', 'peak_cps': '10', 'comments': ''}\n",
      "{'date': '2020-06-07', 'start': '11:12:30', 'end': '11:22:20', 'dt': '243.7', 'GOES': 'A2.8', 'bkg': '76090', 'fl': '3039', 'cps': '5.15', 'peak_cps': '11', 'comments': ''}\n",
      "{'date': '2020-06-07', 'start': '11:32:10', 'end': '11:36:50', 'dt': '243.8', 'GOES': 'A1.6', 'bkg': '36085', 'fl': '1582', 'cps': '5.65', 'peak_cps': '19', 'comments': ''}\n",
      "{'date': '2020-06-07', 'start': '11:53:20', 'end': '11:59:50', 'dt': '243.8', 'GOES': 'A1.4', 'bkg': '50960', 'fl': '892', 'cps': '2.28', 'peak_cps': '10', 'comments': ''}\n",
      "{'date': '2020-06-07', 'start': '12:16:48', 'end': '12:28:32', 'dt': '243.8', 'GOES': 'A1.8', 'bkg': '92112', 'fl': '1775', 'cps': '2.52', 'peak_cps': '18', 'comments': ''}\n",
      "{'date': '2020-06-07', 'start': '13:56:30', 'end': '14:00:15', 'dt': '243.9', 'GOES': 'A2.0', 'bkg': '28952', 'fl': '2168', 'cps': '9.63', 'peak_cps': '19', 'comments': ''}\n",
      "{'date': '2020-06-07', 'start': '18:30:10', 'end': '18:35:00', 'dt': '244.2', 'GOES': 'A1.6', 'bkg': '37039', 'fl': '2624', 'cps': '9.04', 'peak_cps': '11', 'comments': ''}\n",
      "{'date': '2020-06-07', 'start': '19:01:40', 'end': '19:17:40', 'dt': '244.2', 'GOES': 'A2.0', 'bkg': '123579', 'fl': '2932', 'cps': '3.05', 'peak_cps': '11', 'comments': ''}\n",
      "{'date': '2020-06-07', 'start': '20:40:05', 'end': '20:47:25', 'dt': '244.3', 'GOES': 'B1.0', 'bkg': '57180', 'fl': '17863', 'cps': '40.5', 'peak_cps': '70', 'comments': ''}\n",
      "{'date': '2020-06-07', 'start': '20:59:10', 'end': '21:04:55', 'dt': '244.3', 'GOES': 'A3.7', 'bkg': '44737', 'fl': '5154', 'cps': '14.9', 'peak_cps': '18', 'comments': ''}\n",
      "{'date': '2020-06-07', 'start': '21:30:50', 'end': '21:55:30', 'dt': '244.3', 'GOES': 'B6.0', 'bkg': '191719', 'fl': '316802', 'cps': '214', 'peak_cps': '606', 'comments': ''}\n",
      "{'date': '2020-06-08', 'start': '0:44:10', 'end': '0:49:30', 'dt': '244.5', 'GOES': 'A3.1', 'bkg': '41618', 'fl': '1117', 'cps': '3.49', 'peak_cps': '10', 'comments': ''}\n",
      "{'date': '2020-06-08', 'start': '2:39:05', 'end': '2:43:45', 'dt': '244.6', 'GOES': 'A3.1', 'bkg': '36287', 'fl': '3908', 'cps': '13.9', 'peak_cps': '26', 'comments': ''}\n",
      "{'date': '2020-06-08', 'start': '7:03:40', 'end': '7:09:00', 'dt': '244.8', 'GOES': 'A2.6', 'bkg': '41598', 'fl': '2737', 'cps': '8.55', 'peak_cps': '18', 'comments': ''}\n",
      "{'date': '2020-06-08', 'start': '12:59:00', 'end': '13:06:30', 'dt': '245.1', 'GOES': 'A2.3', 'bkg': '29410', 'fl': '1236', 'cps': '2.74', 'peak_cps': '10', 'comments': ''}\n",
      "{'date': '2020-06-08', 'start': '15:51:30', 'end': '16:06:30', 'dt': '245.3', 'GOES': 'A1.0', 'bkg': '58565', 'fl': '529', 'cps': '0.58', 'peak_cps': '10', 'comments': ''}\n",
      "{'date': '2020-06-08', 'start': '16:21:00', 'end': '16:48:00', 'dt': '245.3', 'GOES': 'A4.8', 'bkg': '105503', 'fl': '2731', 'cps': '1.68', 'peak_cps': '18', 'comments': ''}\n",
      "{'date': '2020-06-08', 'start': '17:00:30', 'end': '17:30:30', 'dt': '245.3', 'GOES': 'A9.1', 'bkg': '117312', 'fl': '3741', 'cps': '2.07', 'peak_cps': '18', 'comments': ''}\n",
      "{'date': '2020-06-08', 'start': '23:04:30', 'end': '23:11:30', 'dt': '245.6', 'GOES': 'A6.2', 'bkg': '27111', 'fl': '1055', 'cps': '2.51', 'peak_cps': '11', 'comments': ''}\n",
      "{'date': '2020-06-09', 'start': '0:07:00', 'end': '0:26:00', 'dt': '245.7', 'GOES': 'A5.2', 'bkg': '73975', 'fl': '2147', 'cps': '1.88', 'peak_cps': '18', 'comments': ''}\n",
      "{'date': '2020-06-09', 'start': '1:55:00', 'end': '2:04:00', 'dt': '245.8', 'GOES': 'A4.1', 'bkg': '35334', 'fl': '1410', 'cps': '2.61', 'peak_cps': '18', 'comments': ''}\n",
      "{'date': '2020-06-09', 'start': '2:22:30', 'end': '2:27:20', 'dt': '245.8', 'GOES': 'A3.4', 'bkg': '19426', 'fl': '1597', 'cps': '5.5', 'peak_cps': '24', 'comments': ''}\n",
      "{'date': '2020-06-09', 'start': '2:55:20', 'end': '3:16:30', 'dt': '245.8', 'GOES': 'A7.5', 'bkg': '83363', 'fl': '17678', 'cps': '13.9', 'peak_cps': '50', 'comments': ''}\n",
      "{'date': '2020-06-09', 'start': '4:27:30', 'end': '4:38:00', 'dt': '245.9', 'GOES': 'A2.1', 'bkg': '40578', 'fl': '1592', 'cps': '2.52', 'peak_cps': '11', 'comments': ''}\n",
      "{'date': '2020-06-09', 'start': '8:59:50', 'end': '9:10:35', 'dt': '246.1', 'GOES': 'A6.9', 'bkg': '42096', 'fl': '5206', 'cps': '8.07', 'peak_cps': '42', 'comments': ''}\n",
      "{'date': '2020-06-10', 'start': '5:00:00', 'end': '5:04:00', 'dt': '246.9', 'GOES': 'A1', 'bkg': '15509', 'fl': '414', 'cps': '1.72', 'peak_cps': '11', 'comments': 'marginal'}\n",
      "{'date': '2020-06-10', 'start': '8:32:30', 'end': '8:44:10', 'dt': '247.1', 'GOES': 'A3.2', 'bkg': '45659', 'fl': '2029', 'cps': '2.89', 'peak_cps': '18', 'comments': ''}\n",
      "{'date': '2020-06-13', 'start': '11:07:40', 'end': '11:16:30', 'dt': '249.1', 'GOES': 'A6.1', 'bkg': '34908', 'fl': '3782', 'cps': '7.13', 'peak_cps': '34', 'comments': ''}\n"
     ]
    }
   ],
   "source": [
    "import csv\n",
    "f=open('STIX_flare_list_commissioning.csv')\n",
    "data = csv.DictReader(f)\n",
    "import pymongo\n",
    "connect = pymongo.MongoClient()\n",
    "db = connect[\"stix\"]\n",
    "col = db['flares']\n",
    "for i, l in enumerate(data):\n",
    "    l['_id']=i\n",
    "    l['start_unix_time']=\n",
    "    col.insert_one(l)"
   ]
  },
  {
   "cell_type": "code",
   "execution_count": null,
   "metadata": {},
   "outputs": [],
   "source": []
  },
  {
   "cell_type": "code",
   "execution_count": null,
   "metadata": {},
   "outputs": [],
   "source": []
  },
  {
   "cell_type": "code",
   "execution_count": null,
   "metadata": {},
   "outputs": [],
   "source": []
  }
 ],
 "metadata": {
  "kernelspec": {
   "display_name": "Python 3",
   "language": "python",
   "name": "python3"
  },
  "language_info": {
   "codemirror_mode": {
    "name": "ipython",
    "version": 3
   },
   "file_extension": ".py",
   "mimetype": "text/x-python",
   "name": "python",
   "nbconvert_exporter": "python",
   "pygments_lexer": "ipython3",
   "version": "3.8.2"
  }
 },
 "nbformat": 4,
 "nbformat_minor": 4
}
